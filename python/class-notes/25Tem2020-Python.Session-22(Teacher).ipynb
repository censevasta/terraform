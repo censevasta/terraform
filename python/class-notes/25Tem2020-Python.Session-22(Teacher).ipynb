{
 "cells": [
  {
   "cell_type": "markdown",
   "metadata": {},
   "source": [
    "### Datetime modulu"
   ]
  },
  {
   "cell_type": "code",
   "execution_count": 27,
   "metadata": {},
   "outputs": [],
   "source": [
    "from datetime import date\n",
    "\n",
    "# date object of today's date\n",
    "today = date.today() "
   ]
  },
  {
   "cell_type": "code",
   "execution_count": 29,
   "metadata": {},
   "outputs": [
    {
     "data": {
      "text/plain": [
       "datetime.date(2020, 7, 25)"
      ]
     },
     "execution_count": 29,
     "metadata": {},
     "output_type": "execute_result"
    }
   ],
   "source": [
    "date.today()"
   ]
  },
  {
   "cell_type": "code",
   "execution_count": null,
   "metadata": {},
   "outputs": [],
   "source": [
    "today."
   ]
  },
  {
   "cell_type": "code",
   "execution_count": 28,
   "metadata": {},
   "outputs": [
    {
     "name": "stdout",
     "output_type": "stream",
     "text": [
      "Current year: 2020\n",
      "Current month: 7\n",
      "Current day: 25\n"
     ]
    }
   ],
   "source": [
    "print(\"Current year:\", today.year)\n",
    "print(\"Current month:\", today.month)\n",
    "print(\"Current day:\", today.day)"
   ]
  },
  {
   "cell_type": "code",
   "execution_count": null,
   "metadata": {},
   "outputs": [],
   "source": []
  },
  {
   "cell_type": "markdown",
   "metadata": {},
   "source": [
    "## Sözlük içinde lambda kullanımı"
   ]
  },
  {
   "cell_type": "markdown",
   "metadata": {},
   "source": [
    "### Birinci örnek"
   ]
  },
  {
   "cell_type": "code",
   "execution_count": null,
   "metadata": {},
   "outputs": [],
   "source": [
    "stdcalc = {\n",
    "    'sum': lambda x, y: x + y,\n",
    "    'subtract': lambda a, b: a - b\n",
    "}\n",
    "\n",
    "print(stdcalc['sum'](9,3))\n",
    "print(stdcalc['subtract'](9,3))"
   ]
  },
  {
   "cell_type": "markdown",
   "metadata": {},
   "source": [
    "### İkinci örnek"
   ]
  },
  {
   "cell_type": "code",
   "execution_count": 38,
   "metadata": {},
   "outputs": [],
   "source": [
    "ops = {\"+\": (lambda x, y: x+y), \"-\": (lambda x, y: x-y), \"/\": (lambda x, y: x/y)}"
   ]
  },
  {
   "cell_type": "code",
   "execution_count": 39,
   "metadata": {},
   "outputs": [
    {
     "data": {
      "text/plain": [
       "8"
      ]
     },
     "execution_count": 39,
     "metadata": {},
     "output_type": "execute_result"
    }
   ],
   "source": [
    "ops[\"+\"](3, 5)"
   ]
  },
  {
   "cell_type": "code",
   "execution_count": 40,
   "metadata": {},
   "outputs": [
    {
     "data": {
      "text/plain": [
       "4.0"
      ]
     },
     "execution_count": 40,
     "metadata": {},
     "output_type": "execute_result"
    }
   ],
   "source": [
    "ops[\"/\"](100,25)"
   ]
  },
  {
   "cell_type": "markdown",
   "metadata": {},
   "source": [
    "### Üçüncü örnek"
   ]
  },
  {
   "cell_type": "markdown",
   "metadata": {},
   "source": [
    "tek ve çift sayıların bir araya toplanması"
   ]
  },
  {
   "cell_type": "code",
   "execution_count": 106,
   "metadata": {},
   "outputs": [
    {
     "name": "stdout",
     "output_type": "stream",
     "text": [
      "1 : odd\n",
      "2 : even\n",
      "3 : odd\n",
      "4 : even\n"
     ]
    }
   ],
   "source": [
    "for x in [1, 2, 3, 4]:\n",
    "    print(x, \":\", (lambda x: \"odd\" if x%2 != 0 else \"even\")(x))"
   ]
  },
  {
   "cell_type": "markdown",
   "metadata": {},
   "source": [
    "### Dict comprehension"
   ]
  },
  {
   "cell_type": "code",
   "execution_count": 2,
   "metadata": {},
   "outputs": [
    {
     "name": "stdout",
     "output_type": "stream",
     "text": [
      "{0: 0, 1: 1, 2: 4, 3: 9, 4: 16, 5: 25, 6: 36, 7: 49, 8: 64, 9: 81}\n"
     ]
    }
   ],
   "source": [
    "testDict = {i: i * i for i in range(10)} \n",
    "#testSet = {i * 2 for i in range(10)}\n",
    "\n",
    "#print(testSet)\n",
    "print(testDict)"
   ]
  },
  {
   "cell_type": "code",
   "execution_count": 7,
   "metadata": {},
   "outputs": [],
   "source": [
    "testDict_1 = {str(i)+\"'nin karesi\": i * i for i in range(10)} "
   ]
  },
  {
   "cell_type": "code",
   "execution_count": 8,
   "metadata": {},
   "outputs": [
    {
     "data": {
      "text/plain": [
       "{\"0'nin karesi\": 0,\n",
       " \"1'nin karesi\": 1,\n",
       " \"2'nin karesi\": 4,\n",
       " \"3'nin karesi\": 9,\n",
       " \"4'nin karesi\": 16,\n",
       " \"5'nin karesi\": 25,\n",
       " \"6'nin karesi\": 36,\n",
       " \"7'nin karesi\": 49,\n",
       " \"8'nin karesi\": 64,\n",
       " \"9'nin karesi\": 81}"
      ]
     },
     "execution_count": 8,
     "metadata": {},
     "output_type": "execute_result"
    }
   ],
   "source": [
    "testDict_1"
   ]
  },
  {
   "cell_type": "markdown",
   "metadata": {},
   "source": [
    "## komutlarla x - y koordinatlarındaki yeri gösterme"
   ]
  },
  {
   "cell_type": "code",
   "execution_count": 30,
   "metadata": {},
   "outputs": [
    {
     "data": {
      "text/plain": [
       "[0, -10]"
      ]
     },
     "execution_count": 30,
     "metadata": {},
     "output_type": "execute_result"
    }
   ],
   "source": [
    "L = [\"right 20\", \"right 30\", \"left 50\", \"up 10\", \"down 20\"]\n",
    "\n",
    "x = y = 0 \n",
    "for ii in range(len(L)):\n",
    "    if L[ii].startswith(\"r\"): x=x+int(L[ii].split(\" \")[1])\n",
    "    elif L[ii].startswith(\"l\"): x=x-int(L[ii].split(\" \")[1])\n",
    "    elif L[ii].startswith(\"u\"): y=y+int(L[ii].split(\" \")[1])\n",
    "    elif L[ii].startswith(\"d\"): y=y-int(L[ii].split(\" \")[1])\n",
    "[x, y]"
   ]
  },
  {
   "cell_type": "markdown",
   "metadata": {},
   "source": [
    "## `.startswith()` ve `.endswith()` metotlarının içerisinde birden fazla arguman kullanılabilir "
   ]
  },
  {
   "cell_type": "code",
   "execution_count": 10,
   "metadata": {},
   "outputs": [
    {
     "name": "stdout",
     "output_type": "stream",
     "text": [
      "True\n",
      "True\n",
      "True\n",
      "True\n"
     ]
    }
   ],
   "source": [
    "print(\"ahttps://www.google.com\".startswith((\"http://\", \"https://\", \"ahttp\")))\n",
    "print(\"http://www.google.com\".startswith((\"http://\", \"https://\", \"ahttp\")))\n",
    "print(\"http://www.google.co.uk\".endswith((\".com\", \".co.uk\")))\n",
    "print(\"http://www.google.com\".endswith((\".com\", \".co.uk\")))"
   ]
  },
  {
   "cell_type": "markdown",
   "metadata": {},
   "source": [
    "### Assignment - 9 (Letter Count)"
   ]
  },
  {
   "cell_type": "code",
   "execution_count": null,
   "metadata": {},
   "outputs": [],
   "source": [
    "words = \"qazwsxedcrfvtgbyhnujmikolp ,'.!-/?_()1234567890\"\n",
    "sentence = input(\"Enter a sentence in lowercase :\").lower()\n",
    "\n",
    "counter = dict().fromkeys(words, 0)\n",
    "result = dict()\n",
    "\n",
    "for char in sentence:\n",
    "    if char in counter:\n",
    "        counter[char] += 1\n",
    "        if counter[char] != 0:\n",
    "            result[char] = counter[char]\n",
    "        else:\n",
    "            result = result\n",
    "\n",
    "print(sentence, result, sep=\"\\n\\n\")"
   ]
  },
  {
   "cell_type": "code",
   "execution_count": 13,
   "metadata": {},
   "outputs": [
    {
     "data": {
      "text/plain": [
       "{'b': 6, 'i': 2, 'r': 6, ' ': 3, 'e': 5, ',': 1, \"'\": 1}"
      ]
     },
     "execution_count": 13,
     "metadata": {},
     "output_type": "execute_result"
    }
   ],
   "source": [
    "str1=\"bir berber, bir'e berber\"\n",
    "word_dict = {}\n",
    "for n in str1:\n",
    "    keys = word_dict.keys()\n",
    "    if n in keys:\n",
    "        word_dict[n] += 1\n",
    "    else:\n",
    "        word_dict[n] = 1\n",
    "word_dict"
   ]
  },
  {
   "cell_type": "code",
   "execution_count": 19,
   "metadata": {},
   "outputs": [
    {
     "name": "stdout",
     "output_type": "stream",
     "text": [
      "dict_keys([1, 2])\n"
     ]
    }
   ],
   "source": [
    "word = {1:\"1\", 2:\"2\"}\n",
    "\n",
    "keys = word.keys()\n",
    "print(keys)"
   ]
  },
  {
   "cell_type": "code",
   "execution_count": 20,
   "metadata": {},
   "outputs": [],
   "source": [
    "wordd = {}"
   ]
  },
  {
   "cell_type": "code",
   "execution_count": 25,
   "metadata": {},
   "outputs": [],
   "source": [
    "wordd[\"b\"] += 1"
   ]
  },
  {
   "cell_type": "code",
   "execution_count": 26,
   "metadata": {},
   "outputs": [
    {
     "data": {
      "text/plain": [
       "{'b': 3}"
      ]
     },
     "execution_count": 26,
     "metadata": {},
     "output_type": "execute_result"
    }
   ],
   "source": [
    "wordd"
   ]
  },
  {
   "cell_type": "code",
   "execution_count": null,
   "metadata": {},
   "outputs": [],
   "source": []
  }
 ],
 "metadata": {
  "kernelspec": {
   "display_name": "Python 3",
   "language": "python",
   "name": "python3"
  },
  "language_info": {
   "codemirror_mode": {
    "name": "ipython",
    "version": 3
   },
   "file_extension": ".py",
   "mimetype": "text/x-python",
   "name": "python",
   "nbconvert_exporter": "python",
   "pygments_lexer": "ipython3",
   "version": "3.7.3"
  }
 },
 "nbformat": 4,
 "nbformat_minor": 4
}
