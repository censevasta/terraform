{
 "cells": [
  {
   "cell_type": "markdown",
   "metadata": {},
   "source": [
    "# 27 Mart 2020, Python Tamamlam Dersleri 1'nci Oturum"
   ]
  },
  {
   "cell_type": "code",
   "execution_count": 1,
   "metadata": {},
   "outputs": [
    {
     "name": "stdout",
     "output_type": "stream",
     "text": [
      "print(value, ..., sep=' ', end='\\n', file=sys.stdout, flush=False)\n",
      "\n",
      "Prints the values to a stream, or to sys.stdout by default.\n",
      "Optional keyword arguments:\n",
      "file:  a file-like object (stream); defaults to the current sys.stdout.\n",
      "sep:   string inserted between values, default a space.\n",
      "end:   string appended after the last value, default a newline.\n",
      "flush: whether to forcibly flush the stream.\n"
     ]
    }
   ],
   "source": [
    "print(print.__doc__)"
   ]
  },
  {
   "cell_type": "code",
   "execution_count": 5,
   "metadata": {},
   "outputs": [
    {
     "name": "stdout",
     "output_type": "stream",
     "text": [
      "clarusway1\n",
      "\n",
      "clarusway2\n",
      "\n",
      "clarusway3\n"
     ]
    }
   ],
   "source": [
    "print(\"clarusway1\", \"clarusway2\", \"clarusway3\", sep=\"\\n\\n\")"
   ]
  },
  {
   "cell_type": "code",
   "execution_count": 6,
   "metadata": {},
   "outputs": [
    {
     "name": "stdout",
     "output_type": "stream",
     "text": [
      "hello+world+universe\n"
     ]
    }
   ],
   "source": [
    "var1 = \"hello\"\n",
    "var2 = \"world\"\n",
    "var3 = \"universe\"\n",
    "print(var1, var2, var3, sep=\"+\")"
   ]
  },
  {
   "cell_type": "code",
   "execution_count": 8,
   "metadata": {},
   "outputs": [
    {
     "name": "stdout",
     "output_type": "stream",
     "text": [
      "hello\n",
      "world\n",
      "universe\n"
     ]
    }
   ],
   "source": [
    "print(var1)\n",
    "print(var2)\n",
    "print(var3)"
   ]
  },
  {
   "cell_type": "code",
   "execution_count": 10,
   "metadata": {},
   "outputs": [
    {
     "name": "stdout",
     "output_type": "stream",
     "text": [
      "clarusway1 clarusway2 clarusway3\n"
     ]
    }
   ],
   "source": [
    "print(\"clarusway1\" + \" clarusway2\" + \" clarusway3\")"
   ]
  },
  {
   "cell_type": "code",
   "execution_count": 14,
   "metadata": {},
   "outputs": [
    {
     "name": "stdout",
     "output_type": "stream",
     "text": [
      "erzurum\n",
      "erzurumerzurum\n",
      "e r z u r u m\n",
      "e r z u r u m e r z u r u m\n"
     ]
    }
   ],
   "source": [
    "print(\"erzurum\")\n",
    "print(\"erzurum\" * 2, sep=\"  \")\n",
    "print(* \"erzurum\")\n",
    "print(* \"erzurum\" * 2)"
   ]
  },
  {
   "cell_type": "code",
   "execution_count": 17,
   "metadata": {},
   "outputs": [
    {
     "name": "stdout",
     "output_type": "stream",
     "text": [
      "erzurum\n",
      "erzurum istanbul\n",
      "erzurum istanbul sinop\n",
      "erzurum\n"
     ]
    }
   ],
   "source": [
    "sehir = \"erzurum\"\n",
    "print(sehir)\n",
    "sehir += \" istanbul\"\n",
    "print(sehir)\n",
    "sehir += \" sinop\"\n",
    "print(sehir)\n",
    "sehir = \"erzurum\"\n",
    "print(sehir)"
   ]
  },
  {
   "cell_type": "code",
   "execution_count": 20,
   "metadata": {},
   "outputs": [
    {
     "name": "stdout",
     "output_type": "stream",
     "text": [
      "False\n"
     ]
    }
   ],
   "source": [
    "ısı = True\n",
    "madde = True\n",
    "oksijen = False\n",
    "\n",
    "yangın = ısı and madde and oksijen\n",
    "\n",
    "print(yangın)"
   ]
  },
  {
   "cell_type": "code",
   "execution_count": 32,
   "metadata": {},
   "outputs": [
    {
     "name": "stdout",
     "output_type": "stream",
     "text": [
      "True\n",
      "False\n",
      "False\n"
     ]
    }
   ],
   "source": [
    "print(bool(3))\n",
    "print(bool(0))\n",
    "print(bool([]))"
   ]
  },
  {
   "cell_type": "code",
   "execution_count": 22,
   "metadata": {},
   "outputs": [
    {
     "name": "stdout",
     "output_type": "stream",
     "text": [
      "False\n",
      "True\n"
     ]
    }
   ],
   "source": [
    "print(bool(None))\n",
    "print(bool(-1))"
   ]
  },
  {
   "cell_type": "code",
   "execution_count": 23,
   "metadata": {},
   "outputs": [
    {
     "name": "stdout",
     "output_type": "stream",
     "text": [
      "4\n"
     ]
    }
   ],
   "source": [
    "print(1 and 2 and 3 and 4)\n",
    "# None , 0, 0.0 , \" \", [] , {}"
   ]
  },
  {
   "cell_type": "code",
   "execution_count": 26,
   "metadata": {},
   "outputs": [
    {
     "name": "stdout",
     "output_type": "stream",
     "text": [
      "False\n"
     ]
    }
   ],
   "source": [
    "print(1 and False and 0 and 3)"
   ]
  },
  {
   "cell_type": "code",
   "execution_count": 27,
   "metadata": {},
   "outputs": [
    {
     "name": "stdout",
     "output_type": "stream",
     "text": [
      "None\n"
     ]
    }
   ],
   "source": [
    "print(1 and None and 3 and 0)"
   ]
  },
  {
   "cell_type": "code",
   "execution_count": 28,
   "metadata": {},
   "outputs": [
    {
     "name": "stdout",
     "output_type": "stream",
     "text": [
      "1\n"
     ]
    }
   ],
   "source": [
    "print(1 or 2 or 3 or 4)"
   ]
  },
  {
   "cell_type": "code",
   "execution_count": 31,
   "metadata": {},
   "outputs": [
    {
     "name": "stdout",
     "output_type": "stream",
     "text": [
      "5\n"
     ]
    }
   ],
   "source": [
    "print(False or 5 or [])"
   ]
  },
  {
   "cell_type": "markdown",
   "metadata": {},
   "source": [
    "Problem :\n",
    "\n",
    "Task : Estimating the risk of death from coronavirus.\n",
    "\n",
    "Consider the following questions in terms of True/False regarding someone else.\n",
    "\n",
    "Are you a cigarette addict older than 75 years old? Variable → age risk var\n",
    "\n",
    "Do you have a severe chronic disease? Variable → chronic risk var\n",
    "\n",
    "Is your immune system too weak? Variable → immune risk var\n",
    "\n",
    "Set a logical algorithm using boolean logic operators (and/or) and the given variables in order to give us True (there is a risk of death) or False (there is not a risk of death) as a result."
   ]
  },
  {
   "cell_type": "code",
   "execution_count": null,
   "metadata": {},
   "outputs": [],
   "source": [
    "age = True\n",
    "chronic = False\n",
    "immune = False\n",
    "\n",
    "risk = age "
   ]
  },
  {
   "cell_type": "code",
   "execution_count": 36,
   "metadata": {},
   "outputs": [
    {
     "name": "stdout",
     "output_type": "stream",
     "text": [
      "enter a number : 8\n",
      "enter another number : 5\n",
      "13\n"
     ]
    }
   ],
   "source": [
    "first = int(input(\"enter a number : \"))\n",
    "second = int(input(\"enter another number : \"))\n",
    "print(first + second)"
   ]
  },
  {
   "cell_type": "code",
   "execution_count": 34,
   "metadata": {},
   "outputs": [
    {
     "name": "stdout",
     "output_type": "stream",
     "text": [
      "enter a number : 4\n",
      "<class 'str'>\n"
     ]
    }
   ],
   "source": [
    "print(type(input(\"enter a number : \")))"
   ]
  },
  {
   "cell_type": "markdown",
   "metadata": {},
   "source": [
    "Write a Python code on your Playground and submit your code (answer) as a plain text.\n",
    "Problem : If you had deposited a coin on the cryptocurrency exchange that brought 7% fixed profit daily for a week, how much would your $ 1000 reach at the end of the 7th day?"
   ]
  },
  {
   "cell_type": "code",
   "execution_count": 37,
   "metadata": {},
   "outputs": [
    {
     "name": "stdout",
     "output_type": "stream",
     "text": [
      "answer :  1605.78147647843\n"
     ]
    }
   ],
   "source": [
    "deposit = 1000  # first day on exchange - monday\n",
    "deposit = deposit*7/100+deposit  # first day of profit - tuesday\n",
    "deposit = deposit*7/100+deposit  # second day of profit - wednesday \n",
    "deposit = deposit*7/100+deposit  # third day of profit - thursday \n",
    "deposit = deposit*7/100+deposit  # fourth day of profit - friday\n",
    "deposit = deposit*7/100+deposit  # fifth day of profit - saturday\n",
    "deposit = deposit*7/100+deposit  # sixth day of profit - sunday\n",
    "deposit = deposit*7/100+deposit  # seventh day of profit - monday\n",
    "\n",
    "print(\"answer : \", deposit)"
   ]
  },
  {
   "cell_type": "code",
   "execution_count": 38,
   "metadata": {},
   "outputs": [
    {
     "name": "stdout",
     "output_type": "stream",
     "text": [
      "answer:  1605.7814764784307\n"
     ]
    }
   ],
   "source": [
    "deposit = 1000\n",
    "deposit = deposit * 1.07**7\n",
    "\n",
    "print('answer: ', deposit)"
   ]
  },
  {
   "cell_type": "code",
   "execution_count": 39,
   "metadata": {},
   "outputs": [
    {
     "name": "stdout",
     "output_type": "stream",
     "text": [
      "True\n"
     ]
    }
   ],
   "source": [
    "print(1 and 0 or not False and True or \"yinele\")"
   ]
  },
  {
   "cell_type": "code",
   "execution_count": null,
   "metadata": {},
   "outputs": [],
   "source": [
    "print(0 or True or \"yinele\")"
   ]
  },
  {
   "cell_type": "code",
   "execution_count": 40,
   "metadata": {},
   "outputs": [
    {
     "data": {
      "text/plain": [
       "True"
      ]
     },
     "execution_count": 40,
     "metadata": {},
     "output_type": "execute_result"
    }
   ],
   "source": [
    "True"
   ]
  },
  {
   "cell_type": "code",
   "execution_count": null,
   "metadata": {},
   "outputs": [],
   "source": [
    "not\n",
    "and\n",
    "or"
   ]
  },
  {
   "cell_type": "code",
   "execution_count": 42,
   "metadata": {},
   "outputs": [
    {
     "name": "stdout",
     "output_type": "stream",
     "text": [
      "4\n"
     ]
    }
   ],
   "source": [
    "a = 2\n",
    "b = 3\n",
    "c = 4\n",
    "a = b = c\n",
    "print(a)"
   ]
  },
  {
   "cell_type": "code",
   "execution_count": null,
   "metadata": {},
   "outputs": [],
   "source": []
  }
 ],
 "metadata": {
  "kernelspec": {
   "display_name": "Python 3",
   "language": "python",
   "name": "python3"
  },
  "language_info": {
   "codemirror_mode": {
    "name": "ipython",
    "version": 3
   },
   "file_extension": ".py",
   "mimetype": "text/x-python",
   "name": "python",
   "nbconvert_exporter": "python",
   "pygments_lexer": "ipython3",
   "version": "3.7.3"
  }
 },
 "nbformat": 4,
 "nbformat_minor": 2
}
